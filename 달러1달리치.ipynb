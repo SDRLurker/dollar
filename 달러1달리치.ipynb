{
  "nbformat": 4,
  "nbformat_minor": 0,
  "metadata": {
    "colab": {
      "name": "달러1달리치.ipynb",
      "provenance": [],
      "collapsed_sections": []
    },
    "kernelspec": {
      "name": "python3",
      "display_name": "Python 3"
    },
    "language_info": {
      "name": "python"
    }
  },
  "cells": [
    {
      "cell_type": "markdown",
      "metadata": {
        "id": "GK6xfQYmoAjb"
      },
      "source": [
        "# 달러1달리치\n",
        "\n",
        "* 달러리치 앱 - 달러투자 가이드\n",
        "  - https://m.blog.naver.com/PostView.naver?blogId=boot&logNo=222430430028&proxyReferer="
      ]
    },
    {
      "cell_type": "markdown",
      "metadata": {
        "id": "aKPATWLZhY8Y"
      },
      "source": [
        "* 야후 finance 모듈 설치"
      ]
    },
    {
      "cell_type": "code",
      "metadata": {
        "colab": {
          "base_uri": "https://localhost:8080/"
        },
        "id": "4l-64F1MwsNq",
        "outputId": "3dadbbdc-bd94-4a15-e525-53eb3578f85e"
      },
      "source": [
        "!pip install yfinance --upgrade --no-cache-dir"
      ],
      "execution_count": 1,
      "outputs": [
        {
          "output_type": "stream",
          "name": "stdout",
          "text": [
            "Collecting yfinance\n",
            "  Downloading yfinance-0.1.63.tar.gz (26 kB)\n",
            "Requirement already satisfied: pandas>=0.24 in /usr/local/lib/python3.7/dist-packages (from yfinance) (1.1.5)\n",
            "Requirement already satisfied: numpy>=1.15 in /usr/local/lib/python3.7/dist-packages (from yfinance) (1.19.5)\n",
            "Requirement already satisfied: requests>=2.20 in /usr/local/lib/python3.7/dist-packages (from yfinance) (2.23.0)\n",
            "Requirement already satisfied: multitasking>=0.0.7 in /usr/local/lib/python3.7/dist-packages (from yfinance) (0.0.9)\n",
            "Collecting lxml>=4.5.1\n",
            "  Downloading lxml-4.6.3-cp37-cp37m-manylinux2014_x86_64.whl (6.3 MB)\n",
            "\u001b[K     |████████████████████████████████| 6.3 MB 8.6 MB/s \n",
            "\u001b[?25hRequirement already satisfied: pytz>=2017.2 in /usr/local/lib/python3.7/dist-packages (from pandas>=0.24->yfinance) (2018.9)\n",
            "Requirement already satisfied: python-dateutil>=2.7.3 in /usr/local/lib/python3.7/dist-packages (from pandas>=0.24->yfinance) (2.8.2)\n",
            "Requirement already satisfied: six>=1.5 in /usr/local/lib/python3.7/dist-packages (from python-dateutil>=2.7.3->pandas>=0.24->yfinance) (1.15.0)\n",
            "Requirement already satisfied: urllib3!=1.25.0,!=1.25.1,<1.26,>=1.21.1 in /usr/local/lib/python3.7/dist-packages (from requests>=2.20->yfinance) (1.24.3)\n",
            "Requirement already satisfied: chardet<4,>=3.0.2 in /usr/local/lib/python3.7/dist-packages (from requests>=2.20->yfinance) (3.0.4)\n",
            "Requirement already satisfied: certifi>=2017.4.17 in /usr/local/lib/python3.7/dist-packages (from requests>=2.20->yfinance) (2021.5.30)\n",
            "Requirement already satisfied: idna<3,>=2.5 in /usr/local/lib/python3.7/dist-packages (from requests>=2.20->yfinance) (2.10)\n",
            "Building wheels for collected packages: yfinance\n",
            "  Building wheel for yfinance (setup.py) ... \u001b[?25l\u001b[?25hdone\n",
            "  Created wheel for yfinance: filename=yfinance-0.1.63-py2.py3-none-any.whl size=23918 sha256=9314b2fdf327d8bc18ba8328552f8266ecf297092758c0828a5821b518adb4d0\n",
            "  Stored in directory: /tmp/pip-ephem-wheel-cache-4p8rgbi8/wheels/fe/87/8b/7ec24486e001d3926537f5f7801f57a74d181be25b11157983\n",
            "Successfully built yfinance\n",
            "Installing collected packages: lxml, yfinance\n",
            "  Attempting uninstall: lxml\n",
            "    Found existing installation: lxml 4.2.6\n",
            "    Uninstalling lxml-4.2.6:\n",
            "      Successfully uninstalled lxml-4.2.6\n",
            "Successfully installed lxml-4.6.3 yfinance-0.1.63\n"
          ]
        }
      ]
    },
    {
      "cell_type": "markdown",
      "metadata": {
        "id": "kIW-KCMwhYIU"
      },
      "source": [
        "* 야후 finance 모듈 import"
      ]
    },
    {
      "cell_type": "code",
      "metadata": {
        "id": "nNTtERInwuxY"
      },
      "source": [
        "import yfinance as yf"
      ],
      "execution_count": 2,
      "outputs": []
    },
    {
      "cell_type": "code",
      "metadata": {
        "colab": {
          "base_uri": "https://localhost:8080/"
        },
        "id": "m0prB6n3nvpz",
        "outputId": "31ed15d0-d26a-4e9a-8b3d-2c9b596c9ac7"
      },
      "source": [
        "obj = yf.Ticker(\"KRW=X\")\n",
        "obj.info"
      ],
      "execution_count": 3,
      "outputs": [
        {
          "output_type": "execute_result",
          "data": {
            "text/plain": [
              "{'algorithm': None,\n",
              " 'ask': 1182.52,\n",
              " 'askSize': 0,\n",
              " 'averageDailyVolume10Day': 0,\n",
              " 'averageVolume': 0,\n",
              " 'averageVolume10days': 0,\n",
              " 'beta': None,\n",
              " 'bid': 1181.52,\n",
              " 'bidSize': 0,\n",
              " 'circulatingSupply': None,\n",
              " 'currency': 'KRW',\n",
              " 'dayHigh': 1181.52,\n",
              " 'dayLow': 1181.52,\n",
              " 'dividendRate': None,\n",
              " 'dividendYield': None,\n",
              " 'exDividendDate': None,\n",
              " 'exchange': 'CCY',\n",
              " 'exchangeTimezoneName': 'Europe/London',\n",
              " 'exchangeTimezoneShortName': 'BST',\n",
              " 'expireDate': None,\n",
              " 'fiftyDayAverage': 1160.1884,\n",
              " 'fiftyTwoWeekHigh': 1183.5,\n",
              " 'fiftyTwoWeekLow': 1079.22,\n",
              " 'fiveYearAvgDividendYield': None,\n",
              " 'forwardPE': None,\n",
              " 'fromCurrency': None,\n",
              " 'gmtOffSetMilliseconds': '3600000',\n",
              " 'isEsgPopulated': False,\n",
              " 'lastMarket': None,\n",
              " 'logo_url': '',\n",
              " 'market': 'ccy_market',\n",
              " 'marketCap': None,\n",
              " 'maxAge': 1,\n",
              " 'maxSupply': None,\n",
              " 'messageBoardId': 'finmb_KRW_X',\n",
              " 'navPrice': None,\n",
              " 'open': 1181.52,\n",
              " 'openInterest': None,\n",
              " 'payoutRatio': None,\n",
              " 'previousClose': 1175.2,\n",
              " 'priceHint': 4,\n",
              " 'priceToSalesTrailing12Months': None,\n",
              " 'quoteType': 'CURRENCY',\n",
              " 'regularMarketDayHigh': 1181.52,\n",
              " 'regularMarketDayLow': 1181.52,\n",
              " 'regularMarketOpen': 1181.52,\n",
              " 'regularMarketPreviousClose': 1175.2,\n",
              " 'regularMarketPrice': 1181.52,\n",
              " 'regularMarketVolume': 0,\n",
              " 'shortName': 'USD/KRW',\n",
              " 'startDate': None,\n",
              " 'strikePrice': None,\n",
              " 'symbol': 'KRW=X',\n",
              " 'toCurrency': None,\n",
              " 'totalAssets': None,\n",
              " 'tradeable': False,\n",
              " 'trailingAnnualDividendRate': None,\n",
              " 'trailingAnnualDividendYield': None,\n",
              " 'twoHundredDayAverage': 1134.8093,\n",
              " 'volume': 0,\n",
              " 'volume24Hr': None,\n",
              " 'volumeAllCurrencies': None,\n",
              " 'yield': None,\n",
              " 'ytdReturn': None}"
            ]
          },
          "metadata": {},
          "execution_count": 3
        }
      ]
    },
    {
      "cell_type": "code",
      "metadata": {
        "colab": {
          "base_uri": "https://localhost:8080/"
        },
        "id": "jxbix7zMoUyl",
        "outputId": "1aa26644-9923-4169-d45a-5f9ee4316bf0"
      },
      "source": [
        "obj = yf.Ticker(\"DX-Y.NYB\")\n",
        "obj.info"
      ],
      "execution_count": 4,
      "outputs": [
        {
          "output_type": "execute_result",
          "data": {
            "text/plain": [
              "{'algorithm': None,\n",
              " 'ask': 0,\n",
              " 'askSize': 0,\n",
              " 'averageDailyVolume10Day': 0,\n",
              " 'averageVolume': 0,\n",
              " 'averageVolume10days': 0,\n",
              " 'beta': None,\n",
              " 'bid': 0,\n",
              " 'bidSize': 0,\n",
              " 'circulatingSupply': None,\n",
              " 'currency': 'USD',\n",
              " 'dayHigh': 93.248,\n",
              " 'dayLow': 92.765,\n",
              " 'dividendRate': None,\n",
              " 'dividendYield': None,\n",
              " 'exDividendDate': None,\n",
              " 'exchange': 'NYB',\n",
              " 'exchangeTimezoneName': 'America/New_York',\n",
              " 'exchangeTimezoneShortName': 'EDT',\n",
              " 'expireDate': None,\n",
              " 'fiftyDayAverage': 92.687775,\n",
              " 'fiftyTwoWeekHigh': 94.74,\n",
              " 'fiftyTwoWeekLow': 89.21,\n",
              " 'fiveYearAvgDividendYield': None,\n",
              " 'forwardPE': None,\n",
              " 'fromCurrency': None,\n",
              " 'gmtOffSetMilliseconds': '-14400000',\n",
              " 'isEsgPopulated': False,\n",
              " 'lastMarket': None,\n",
              " 'logo_url': '',\n",
              " 'market': 'us24_market',\n",
              " 'marketCap': None,\n",
              " 'maxAge': 1,\n",
              " 'maxSupply': None,\n",
              " 'messageBoardId': 'finmb_INDEXDX-Y.NYB',\n",
              " 'navPrice': None,\n",
              " 'open': 92.876,\n",
              " 'openInterest': None,\n",
              " 'payoutRatio': None,\n",
              " 'previousClose': 93.195,\n",
              " 'priceHint': 2,\n",
              " 'priceToSalesTrailing12Months': None,\n",
              " 'quoteType': 'INDEX',\n",
              " 'regularMarketDayHigh': 93.248,\n",
              " 'regularMarketDayLow': 92.765,\n",
              " 'regularMarketOpen': 92.876,\n",
              " 'regularMarketPreviousClose': 93.195,\n",
              " 'regularMarketPrice': 93.246,\n",
              " 'regularMarketVolume': None,\n",
              " 'shortName': 'US Dollar/USDX - Index - Cash',\n",
              " 'startDate': None,\n",
              " 'strikePrice': None,\n",
              " 'symbol': 'DX-Y.NYB',\n",
              " 'toCurrency': None,\n",
              " 'totalAssets': None,\n",
              " 'tradeable': False,\n",
              " 'trailingAnnualDividendRate': None,\n",
              " 'trailingAnnualDividendYield': None,\n",
              " 'twoHundredDayAverage': 91.8,\n",
              " 'volume': None,\n",
              " 'volume24Hr': None,\n",
              " 'volumeAllCurrencies': None,\n",
              " 'yield': None,\n",
              " 'ytdReturn': None}"
            ]
          },
          "metadata": {},
          "execution_count": 4
        }
      ]
    },
    {
      "cell_type": "markdown",
      "metadata": {
        "id": "OfS1JMSdhi-Y"
      },
      "source": [
        "* get_ticker_hist(symbol, period) : period 기간의 symbol에 대해 시고저종 데이터프레임을 얻는다.\n",
        "  - symbol \n",
        "    - KRW=X : 원/달러\n",
        "    - DX-Y.NYB : 달러인덱스\n",
        "  - period : 1mo(1달), 1y(1년)"
      ]
    },
    {
      "cell_type": "code",
      "metadata": {
        "id": "oVSb60LJw5c9"
      },
      "source": [
        "import datetime\n",
        "\n",
        "def get_ticker_hist(symbol, period):\n",
        "    obj = yf.Ticker(symbol)\n",
        "    hist_df = obj.history(period=period, auto_adjust=False)\n",
        "    if abs(hist_df['Close'].iloc[-1] - obj.info['regularMarketPrice']) > 0.1:\n",
        "        hist_df = hist_df.reset_index()\n",
        "        new_row = {\n",
        "          'Date' : datetime.datetime.now(),\n",
        "          'Open' : obj.info['regularMarketOpen'],\n",
        "          'High' : obj.info['regularMarketDayHigh'],\n",
        "          'Low' : obj.info['regularMarketDayLow'],\n",
        "          'Close' : obj.info['regularMarketPrice'],\n",
        "          'Adj Close' : obj.info['regularMarketPrice'],\n",
        "          'Volume' : 0,\n",
        "          'Dividends' : 0,\n",
        "          'Volume' : 0\n",
        "        }\n",
        "        hist_df = hist_df.append(new_row,ignore_index=True)\n",
        "        hist_df = hist_df.set_index('Date')\n",
        "    return hist_df\n",
        "\n",
        "def get_ticker_values(hist):\n",
        "    low = hist['Low'].min()\n",
        "    high = hist['High'].max()\n",
        "    mid = (high + low) / 2.0\n",
        "    close = hist['Close'].iloc[-1]\n",
        "    values_dic = {\n",
        "      \"low\": low,      \n",
        "      \"high\": high,      \n",
        "      \"mid\" : mid,\n",
        "      \"close\" : close,\n",
        "      \"is_buy\" : close < mid\n",
        "    }\n",
        "    return values_dic"
      ],
      "execution_count": 5,
      "outputs": []
    },
    {
      "cell_type": "markdown",
      "metadata": {
        "id": "Ig5ObcvrjrYr"
      },
      "source": [
        "## 1. 원달러 환율"
      ]
    },
    {
      "cell_type": "code",
      "metadata": {
        "id": "8A1NAEqdw9fQ"
      },
      "source": [
        "# 원달러 환율 1년 데이터프레임 얻기\n",
        "#hist = get_ticker_hist(\"KRW=X\", \"1mo\")\n",
        "hist = get_ticker_hist(\"KRW=X\", \"1y\")"
      ],
      "execution_count": 6,
      "outputs": []
    },
    {
      "cell_type": "code",
      "metadata": {
        "colab": {
          "base_uri": "https://localhost:8080/",
          "height": 450
        },
        "id": "almXo7aTxBVC",
        "outputId": "1dfdb3d8-8d39-4861-b6e5-d9d6933e7b3a"
      },
      "source": [
        "hist"
      ],
      "execution_count": 7,
      "outputs": [
        {
          "output_type": "execute_result",
          "data": {
            "text/html": [
              "<div>\n",
              "<style scoped>\n",
              "    .dataframe tbody tr th:only-of-type {\n",
              "        vertical-align: middle;\n",
              "    }\n",
              "\n",
              "    .dataframe tbody tr th {\n",
              "        vertical-align: top;\n",
              "    }\n",
              "\n",
              "    .dataframe thead th {\n",
              "        text-align: right;\n",
              "    }\n",
              "</style>\n",
              "<table border=\"1\" class=\"dataframe\">\n",
              "  <thead>\n",
              "    <tr style=\"text-align: right;\">\n",
              "      <th></th>\n",
              "      <th>Open</th>\n",
              "      <th>High</th>\n",
              "      <th>Low</th>\n",
              "      <th>Close</th>\n",
              "      <th>Adj Close</th>\n",
              "      <th>Volume</th>\n",
              "      <th>Dividends</th>\n",
              "      <th>Stock Splits</th>\n",
              "    </tr>\n",
              "    <tr>\n",
              "      <th>Date</th>\n",
              "      <th></th>\n",
              "      <th></th>\n",
              "      <th></th>\n",
              "      <th></th>\n",
              "      <th></th>\n",
              "      <th></th>\n",
              "      <th></th>\n",
              "      <th></th>\n",
              "    </tr>\n",
              "  </thead>\n",
              "  <tbody>\n",
              "    <tr>\n",
              "      <th>2020-09-17 00:00:00.000000</th>\n",
              "      <td>1173.800049</td>\n",
              "      <td>1177.229980</td>\n",
              "      <td>1169.780029</td>\n",
              "      <td>1172.069946</td>\n",
              "      <td>1172.069946</td>\n",
              "      <td>0</td>\n",
              "      <td>0</td>\n",
              "      <td>0.0</td>\n",
              "    </tr>\n",
              "    <tr>\n",
              "      <th>2020-09-18 00:00:00.000000</th>\n",
              "      <td>1168.760010</td>\n",
              "      <td>1168.760010</td>\n",
              "      <td>1158.640015</td>\n",
              "      <td>1168.650024</td>\n",
              "      <td>1168.650024</td>\n",
              "      <td>0</td>\n",
              "      <td>0</td>\n",
              "      <td>0.0</td>\n",
              "    </tr>\n",
              "    <tr>\n",
              "      <th>2020-09-21 00:00:00.000000</th>\n",
              "      <td>1163.979980</td>\n",
              "      <td>1167.270020</td>\n",
              "      <td>1155.589966</td>\n",
              "      <td>1163.989990</td>\n",
              "      <td>1163.989990</td>\n",
              "      <td>0</td>\n",
              "      <td>0</td>\n",
              "      <td>0.0</td>\n",
              "    </tr>\n",
              "    <tr>\n",
              "      <th>2020-09-22 00:00:00.000000</th>\n",
              "      <td>1162.099976</td>\n",
              "      <td>1166.000000</td>\n",
              "      <td>1158.400024</td>\n",
              "      <td>1163.849976</td>\n",
              "      <td>1163.849976</td>\n",
              "      <td>0</td>\n",
              "      <td>0</td>\n",
              "      <td>0.0</td>\n",
              "    </tr>\n",
              "    <tr>\n",
              "      <th>2020-09-23 00:00:00.000000</th>\n",
              "      <td>1160.800049</td>\n",
              "      <td>1169.329956</td>\n",
              "      <td>1160.099976</td>\n",
              "      <td>1162.500000</td>\n",
              "      <td>1162.500000</td>\n",
              "      <td>0</td>\n",
              "      <td>0</td>\n",
              "      <td>0.0</td>\n",
              "    </tr>\n",
              "    <tr>\n",
              "      <th>...</th>\n",
              "      <td>...</td>\n",
              "      <td>...</td>\n",
              "      <td>...</td>\n",
              "      <td>...</td>\n",
              "      <td>...</td>\n",
              "      <td>...</td>\n",
              "      <td>...</td>\n",
              "      <td>...</td>\n",
              "    </tr>\n",
              "    <tr>\n",
              "      <th>2021-09-14 00:00:00.000000</th>\n",
              "      <td>1171.640015</td>\n",
              "      <td>1174.199951</td>\n",
              "      <td>1165.040039</td>\n",
              "      <td>1171.109985</td>\n",
              "      <td>1171.109985</td>\n",
              "      <td>0</td>\n",
              "      <td>0</td>\n",
              "      <td>0.0</td>\n",
              "    </tr>\n",
              "    <tr>\n",
              "      <th>2021-09-15 00:00:00.000000</th>\n",
              "      <td>1170.750000</td>\n",
              "      <td>1173.859985</td>\n",
              "      <td>1165.160034</td>\n",
              "      <td>1170.800049</td>\n",
              "      <td>1170.800049</td>\n",
              "      <td>0</td>\n",
              "      <td>0</td>\n",
              "      <td>0.0</td>\n",
              "    </tr>\n",
              "    <tr>\n",
              "      <th>2021-09-16 00:00:00.000000</th>\n",
              "      <td>1165.099976</td>\n",
              "      <td>1175.829956</td>\n",
              "      <td>1165.099976</td>\n",
              "      <td>1165.219971</td>\n",
              "      <td>1165.219971</td>\n",
              "      <td>0</td>\n",
              "      <td>0</td>\n",
              "      <td>0.0</td>\n",
              "    </tr>\n",
              "    <tr>\n",
              "      <th>2021-09-17 00:00:00.000000</th>\n",
              "      <td>1174.479980</td>\n",
              "      <td>1180.699951</td>\n",
              "      <td>1173.550049</td>\n",
              "      <td>1174.420044</td>\n",
              "      <td>1174.420044</td>\n",
              "      <td>0</td>\n",
              "      <td>0</td>\n",
              "      <td>0.0</td>\n",
              "    </tr>\n",
              "    <tr>\n",
              "      <th>2021-09-18 16:22:59.438815</th>\n",
              "      <td>1181.520000</td>\n",
              "      <td>1181.520000</td>\n",
              "      <td>1181.520000</td>\n",
              "      <td>1181.520000</td>\n",
              "      <td>1181.520000</td>\n",
              "      <td>0</td>\n",
              "      <td>0</td>\n",
              "      <td>NaN</td>\n",
              "    </tr>\n",
              "  </tbody>\n",
              "</table>\n",
              "<p>263 rows × 8 columns</p>\n",
              "</div>"
            ],
            "text/plain": [
              "                                   Open         High  ...  Dividends  Stock Splits\n",
              "Date                                                  ...                         \n",
              "2020-09-17 00:00:00.000000  1173.800049  1177.229980  ...          0           0.0\n",
              "2020-09-18 00:00:00.000000  1168.760010  1168.760010  ...          0           0.0\n",
              "2020-09-21 00:00:00.000000  1163.979980  1167.270020  ...          0           0.0\n",
              "2020-09-22 00:00:00.000000  1162.099976  1166.000000  ...          0           0.0\n",
              "2020-09-23 00:00:00.000000  1160.800049  1169.329956  ...          0           0.0\n",
              "...                                 ...          ...  ...        ...           ...\n",
              "2021-09-14 00:00:00.000000  1171.640015  1174.199951  ...          0           0.0\n",
              "2021-09-15 00:00:00.000000  1170.750000  1173.859985  ...          0           0.0\n",
              "2021-09-16 00:00:00.000000  1165.099976  1175.829956  ...          0           0.0\n",
              "2021-09-17 00:00:00.000000  1174.479980  1180.699951  ...          0           0.0\n",
              "2021-09-18 16:22:59.438815  1181.520000  1181.520000  ...          0           NaN\n",
              "\n",
              "[263 rows x 8 columns]"
            ]
          },
          "metadata": {},
          "execution_count": 7
        }
      ]
    },
    {
      "cell_type": "markdown",
      "metadata": {
        "id": "axD5ObzDiLlN"
      },
      "source": [
        "* low : 기간(1년, 1달) 최저가\n",
        "* high : 기간(1년, 1달) 최고가\n",
        "* mid : low와 high의 중간가\n",
        "* close : 현재가\n",
        "* is_buy : 현재가가 기간(1년, 1달) 중간가보다 작으면 True, 아니면 False"
      ]
    },
    {
      "cell_type": "code",
      "metadata": {
        "colab": {
          "base_uri": "https://localhost:8080/"
        },
        "id": "iAP3niSvxByQ",
        "outputId": "36c13a21-b072-4441-90b7-530c5cc1388a"
      },
      "source": [
        "usdkrw = get_ticker_values(hist)\n",
        "usdkrw"
      ],
      "execution_count": 8,
      "outputs": [
        {
          "output_type": "execute_result",
          "data": {
            "text/plain": [
              "{'close': 1181.52,\n",
              " 'high': 1183.5,\n",
              " 'is_buy': False,\n",
              " 'low': 1079.219970703125,\n",
              " 'mid': 1131.3599853515625}"
            ]
          },
          "metadata": {},
          "execution_count": 8
        }
      ]
    },
    {
      "cell_type": "markdown",
      "metadata": {
        "id": "b8o8fjS3juME"
      },
      "source": [
        "## 2. 달러 인덱스 (달러 지수)"
      ]
    },
    {
      "cell_type": "code",
      "metadata": {
        "colab": {
          "base_uri": "https://localhost:8080/",
          "height": 450
        },
        "id": "uUr9XhLYg2c_",
        "outputId": "b404d2ee-79ab-4f4e-d0d5-059ea87d44da"
      },
      "source": [
        "# 달러인덱스 1년 데이터프레임 얻기\n",
        "#hist = get_ticker_hist(\"DX-Y.NYB\", \"1mo\")\n",
        "hist = get_ticker_hist(\"DX-Y.NYB\", \"1y\")\n",
        "hist"
      ],
      "execution_count": 9,
      "outputs": [
        {
          "output_type": "execute_result",
          "data": {
            "text/html": [
              "<div>\n",
              "<style scoped>\n",
              "    .dataframe tbody tr th:only-of-type {\n",
              "        vertical-align: middle;\n",
              "    }\n",
              "\n",
              "    .dataframe tbody tr th {\n",
              "        vertical-align: top;\n",
              "    }\n",
              "\n",
              "    .dataframe thead th {\n",
              "        text-align: right;\n",
              "    }\n",
              "</style>\n",
              "<table border=\"1\" class=\"dataframe\">\n",
              "  <thead>\n",
              "    <tr style=\"text-align: right;\">\n",
              "      <th></th>\n",
              "      <th>Open</th>\n",
              "      <th>High</th>\n",
              "      <th>Low</th>\n",
              "      <th>Close</th>\n",
              "      <th>Adj Close</th>\n",
              "      <th>Volume</th>\n",
              "      <th>Dividends</th>\n",
              "      <th>Stock Splits</th>\n",
              "    </tr>\n",
              "    <tr>\n",
              "      <th>Date</th>\n",
              "      <th></th>\n",
              "      <th></th>\n",
              "      <th></th>\n",
              "      <th></th>\n",
              "      <th></th>\n",
              "      <th></th>\n",
              "      <th></th>\n",
              "      <th></th>\n",
              "    </tr>\n",
              "  </thead>\n",
              "  <tbody>\n",
              "    <tr>\n",
              "      <th>2020-09-18</th>\n",
              "      <td>92.860001</td>\n",
              "      <td>93.010002</td>\n",
              "      <td>92.769997</td>\n",
              "      <td>92.930000</td>\n",
              "      <td>92.930000</td>\n",
              "      <td>0</td>\n",
              "      <td>0</td>\n",
              "      <td>0</td>\n",
              "    </tr>\n",
              "    <tr>\n",
              "      <th>2020-09-21</th>\n",
              "      <td>93.010002</td>\n",
              "      <td>93.779999</td>\n",
              "      <td>92.750000</td>\n",
              "      <td>93.540001</td>\n",
              "      <td>93.540001</td>\n",
              "      <td>0</td>\n",
              "      <td>0</td>\n",
              "      <td>0</td>\n",
              "    </tr>\n",
              "    <tr>\n",
              "      <th>2020-09-22</th>\n",
              "      <td>93.550003</td>\n",
              "      <td>94.080002</td>\n",
              "      <td>93.470001</td>\n",
              "      <td>93.989998</td>\n",
              "      <td>93.989998</td>\n",
              "      <td>0</td>\n",
              "      <td>0</td>\n",
              "      <td>0</td>\n",
              "    </tr>\n",
              "    <tr>\n",
              "      <th>2020-09-23</th>\n",
              "      <td>93.989998</td>\n",
              "      <td>94.430000</td>\n",
              "      <td>93.930000</td>\n",
              "      <td>94.389999</td>\n",
              "      <td>94.389999</td>\n",
              "      <td>0</td>\n",
              "      <td>0</td>\n",
              "      <td>0</td>\n",
              "    </tr>\n",
              "    <tr>\n",
              "      <th>2020-09-24</th>\n",
              "      <td>94.379997</td>\n",
              "      <td>94.589996</td>\n",
              "      <td>94.199997</td>\n",
              "      <td>94.349998</td>\n",
              "      <td>94.349998</td>\n",
              "      <td>0</td>\n",
              "      <td>0</td>\n",
              "      <td>0</td>\n",
              "    </tr>\n",
              "    <tr>\n",
              "      <th>...</th>\n",
              "      <td>...</td>\n",
              "      <td>...</td>\n",
              "      <td>...</td>\n",
              "      <td>...</td>\n",
              "      <td>...</td>\n",
              "      <td>...</td>\n",
              "      <td>...</td>\n",
              "      <td>...</td>\n",
              "    </tr>\n",
              "    <tr>\n",
              "      <th>2021-09-13</th>\n",
              "      <td>92.610001</td>\n",
              "      <td>92.889999</td>\n",
              "      <td>92.570000</td>\n",
              "      <td>92.620003</td>\n",
              "      <td>92.620003</td>\n",
              "      <td>0</td>\n",
              "      <td>0</td>\n",
              "      <td>0</td>\n",
              "    </tr>\n",
              "    <tr>\n",
              "      <th>2021-09-14</th>\n",
              "      <td>92.620003</td>\n",
              "      <td>92.680000</td>\n",
              "      <td>92.320000</td>\n",
              "      <td>92.650002</td>\n",
              "      <td>92.650002</td>\n",
              "      <td>0</td>\n",
              "      <td>0</td>\n",
              "      <td>0</td>\n",
              "    </tr>\n",
              "    <tr>\n",
              "      <th>2021-09-15</th>\n",
              "      <td>92.680000</td>\n",
              "      <td>92.680000</td>\n",
              "      <td>92.419998</td>\n",
              "      <td>92.489998</td>\n",
              "      <td>92.489998</td>\n",
              "      <td>0</td>\n",
              "      <td>0</td>\n",
              "      <td>0</td>\n",
              "    </tr>\n",
              "    <tr>\n",
              "      <th>2021-09-16</th>\n",
              "      <td>92.459999</td>\n",
              "      <td>92.959999</td>\n",
              "      <td>92.459999</td>\n",
              "      <td>92.860001</td>\n",
              "      <td>92.860001</td>\n",
              "      <td>0</td>\n",
              "      <td>0</td>\n",
              "      <td>0</td>\n",
              "    </tr>\n",
              "    <tr>\n",
              "      <th>2021-09-17</th>\n",
              "      <td>92.879997</td>\n",
              "      <td>93.250000</td>\n",
              "      <td>92.769997</td>\n",
              "      <td>93.199997</td>\n",
              "      <td>93.199997</td>\n",
              "      <td>0</td>\n",
              "      <td>0</td>\n",
              "      <td>0</td>\n",
              "    </tr>\n",
              "  </tbody>\n",
              "</table>\n",
              "<p>250 rows × 8 columns</p>\n",
              "</div>"
            ],
            "text/plain": [
              "                 Open       High        Low  ...  Volume  Dividends  Stock Splits\n",
              "Date                                         ...                                 \n",
              "2020-09-18  92.860001  93.010002  92.769997  ...       0          0             0\n",
              "2020-09-21  93.010002  93.779999  92.750000  ...       0          0             0\n",
              "2020-09-22  93.550003  94.080002  93.470001  ...       0          0             0\n",
              "2020-09-23  93.989998  94.430000  93.930000  ...       0          0             0\n",
              "2020-09-24  94.379997  94.589996  94.199997  ...       0          0             0\n",
              "...               ...        ...        ...  ...     ...        ...           ...\n",
              "2021-09-13  92.610001  92.889999  92.570000  ...       0          0             0\n",
              "2021-09-14  92.620003  92.680000  92.320000  ...       0          0             0\n",
              "2021-09-15  92.680000  92.680000  92.419998  ...       0          0             0\n",
              "2021-09-16  92.459999  92.959999  92.459999  ...       0          0             0\n",
              "2021-09-17  92.879997  93.250000  92.769997  ...       0          0             0\n",
              "\n",
              "[250 rows x 8 columns]"
            ]
          },
          "metadata": {},
          "execution_count": 9
        }
      ]
    },
    {
      "cell_type": "markdown",
      "metadata": {
        "id": "-QW4ezFDiD5b"
      },
      "source": [
        "* low : 기간(1년, 1달) 최저가\n",
        "* high : 기간(1년, 1달) 최고가\n",
        "* mid : low와 high의 중간가\n",
        "* close : 현재가\n",
        "* is_buy : 현재가가 기간(1년, 1달) 중간가보다 작으면 True, 아니면 False"
      ]
    },
    {
      "cell_type": "code",
      "metadata": {
        "colab": {
          "base_uri": "https://localhost:8080/"
        },
        "id": "YTNVXfKeg7_Q",
        "outputId": "b3312fd5-7103-4fd4-bd7d-1edc07df7c3c"
      },
      "source": [
        "dxy = get_ticker_values(hist)\n",
        "dxy"
      ],
      "execution_count": 10,
      "outputs": [
        {
          "output_type": "execute_result",
          "data": {
            "text/plain": [
              "{'close': 93.19999694824219,\n",
              " 'high': 94.73999786376953,\n",
              " 'is_buy': False,\n",
              " 'low': 89.20999908447266,\n",
              " 'mid': 91.9749984741211}"
            ]
          },
          "metadata": {},
          "execution_count": 10
        }
      ]
    },
    {
      "cell_type": "markdown",
      "metadata": {
        "id": "vR73njmai782"
      },
      "source": [
        "## 3. 달러 갭 비율\n",
        "* 산출 공식 : 달러 지수 / (원/달러 환율) * 100 = 달러 갭 비율\n",
        "* mid : 달러 지수 중간값 / (원/달러 환율 중간값) * 100\n",
        "* close : 달러 지수 현재가 / (원/달러 환율 현재가) * 100\n",
        "* is_buy : 현재가가 기간(1년, 1달) 중간값보다 크면 True, 아니면 False"
      ]
    },
    {
      "cell_type": "code",
      "metadata": {
        "id": "w7946QJbhC4_"
      },
      "source": [
        "def get_gap(usdkrw, dxy):\n",
        "    gap_dic = {}\n",
        "    mid = dxy.get(\"mid\", 0) / usdkrw.get(\"mid\", 0) * 100.0\n",
        "    close = dxy.get(\"close\", 0) / usdkrw.get(\"close\", 0) * 100.0\n",
        "    if dxy.get(\"mid\", 0) and usdkrw.get(\"mid\", 0):\n",
        "        gap_dic[\"mid\"] = mid\n",
        "    if dxy.get(\"close\", 0) and usdkrw.get(\"close\", 0):\n",
        "        gap_dic[\"close\"] = close\n",
        "    gap_dic[\"is_buy\"] = close > mid\n",
        "    return gap_dic"
      ],
      "execution_count": 11,
      "outputs": []
    },
    {
      "cell_type": "code",
      "metadata": {
        "colab": {
          "base_uri": "https://localhost:8080/"
        },
        "id": "H4_Alz0BU7G7",
        "outputId": "0c3f7598-34b8-46a3-c331-5c1c9e20e86f"
      },
      "source": [
        "gap_rate = get_gap(usdkrw, dxy)\n",
        "gap_rate"
      ],
      "execution_count": 12,
      "outputs": [
        {
          "output_type": "execute_result",
          "data": {
            "text/plain": [
              "{'close': 7.888143827293841, 'is_buy': False, 'mid': 8.129596208543692}"
            ]
          },
          "metadata": {},
          "execution_count": 12
        }
      ]
    },
    {
      "cell_type": "markdown",
      "metadata": {
        "id": "eGMi9zfJkRv0"
      },
      "source": [
        "## 4. 적정 환율\n",
        "* 산출 공식 : 현재의 달러 지수 / 52주 중간 달러 갭 비율 * 100 = 적정 환율"
      ]
    },
    {
      "cell_type": "code",
      "metadata": {
        "id": "5H8bI4_hWtVu"
      },
      "source": [
        "def get_proper_usdkrw(dxy, gap_rate):\n",
        "    value = 0\n",
        "    if dxy.get(\"close\", 0) and gap_rate.get(\"mid\", 0):\n",
        "        value = dxy.get(\"close\", 0) / gap_rate.get(\"mid\", 0) * 100.0\n",
        "    return value"
      ],
      "execution_count": 13,
      "outputs": []
    },
    {
      "cell_type": "code",
      "metadata": {
        "colab": {
          "base_uri": "https://localhost:8080/"
        },
        "id": "VdwO06S2XPyA",
        "outputId": "4c5c6241-1162-4181-df88-a4cd26bd8562"
      },
      "source": [
        "get_proper_usdkrw(dxy, gap_rate)"
      ],
      "execution_count": 14,
      "outputs": [
        {
          "output_type": "execute_result",
          "data": {
            "text/plain": [
              "1146.428365658492"
            ]
          },
          "metadata": {},
          "execution_count": 14
        }
      ]
    }
  ]
}