{
  "nbformat": 4,
  "nbformat_minor": 0,
  "metadata": {
    "colab": {
      "name": "달러1달리치.ipynb",
      "provenance": [],
      "collapsed_sections": []
    },
    "kernelspec": {
      "name": "python3",
      "display_name": "Python 3"
    },
    "language_info": {
      "name": "python"
    }
  },
  "cells": [
    {
      "cell_type": "markdown",
      "metadata": {
        "id": "GK6xfQYmoAjb"
      },
      "source": [
        "# 달러1달리치\n",
        "\n",
        "* 달러리치 앱 - 달러투자 가이드\n",
        "  - https://m.blog.naver.com/PostView.naver?blogId=boot&logNo=222430430028&proxyReferer="
      ]
    },
    {
      "cell_type": "markdown",
      "metadata": {
        "id": "aKPATWLZhY8Y"
      },
      "source": [
        "* 야후 finance 모듈 설치"
      ]
    },
    {
      "cell_type": "code",
      "metadata": {
        "colab": {
          "base_uri": "https://localhost:8080/"
        },
        "id": "4l-64F1MwsNq",
        "outputId": "05af7272-9da2-4c92-de24-509f9eef927a"
      },
      "source": [
        "!pip install yfinance --upgrade --no-cache-dir"
      ],
      "execution_count": 1,
      "outputs": [
        {
          "output_type": "stream",
          "name": "stdout",
          "text": [
            "Requirement already satisfied: yfinance in /usr/local/lib/python3.7/dist-packages (0.1.63)\n",
            "Requirement already satisfied: lxml>=4.5.1 in /usr/local/lib/python3.7/dist-packages (from yfinance) (4.6.3)\n",
            "Requirement already satisfied: requests>=2.20 in /usr/local/lib/python3.7/dist-packages (from yfinance) (2.23.0)\n",
            "Requirement already satisfied: numpy>=1.15 in /usr/local/lib/python3.7/dist-packages (from yfinance) (1.19.5)\n",
            "Requirement already satisfied: pandas>=0.24 in /usr/local/lib/python3.7/dist-packages (from yfinance) (1.1.5)\n",
            "Requirement already satisfied: multitasking>=0.0.7 in /usr/local/lib/python3.7/dist-packages (from yfinance) (0.0.9)\n",
            "Requirement already satisfied: pytz>=2017.2 in /usr/local/lib/python3.7/dist-packages (from pandas>=0.24->yfinance) (2018.9)\n",
            "Requirement already satisfied: python-dateutil>=2.7.3 in /usr/local/lib/python3.7/dist-packages (from pandas>=0.24->yfinance) (2.8.2)\n",
            "Requirement already satisfied: six>=1.5 in /usr/local/lib/python3.7/dist-packages (from python-dateutil>=2.7.3->pandas>=0.24->yfinance) (1.15.0)\n",
            "Requirement already satisfied: idna<3,>=2.5 in /usr/local/lib/python3.7/dist-packages (from requests>=2.20->yfinance) (2.10)\n",
            "Requirement already satisfied: certifi>=2017.4.17 in /usr/local/lib/python3.7/dist-packages (from requests>=2.20->yfinance) (2021.5.30)\n",
            "Requirement already satisfied: chardet<4,>=3.0.2 in /usr/local/lib/python3.7/dist-packages (from requests>=2.20->yfinance) (3.0.4)\n",
            "Requirement already satisfied: urllib3!=1.25.0,!=1.25.1,<1.26,>=1.21.1 in /usr/local/lib/python3.7/dist-packages (from requests>=2.20->yfinance) (1.24.3)\n"
          ]
        }
      ]
    },
    {
      "cell_type": "markdown",
      "metadata": {
        "id": "kIW-KCMwhYIU"
      },
      "source": [
        "* 야후 finance 모듈 import"
      ]
    },
    {
      "cell_type": "code",
      "metadata": {
        "id": "nNTtERInwuxY"
      },
      "source": [
        "import yfinance as yf"
      ],
      "execution_count": 2,
      "outputs": []
    },
    {
      "cell_type": "markdown",
      "metadata": {
        "id": "OfS1JMSdhi-Y"
      },
      "source": [
        "* get_ticker_hist(symbol, period) : period 기간의 symbol에 대해 시고저종 데이터프레임을 얻는다.\n",
        "  - symbol \n",
        "    - KRW=X : 원/달러\n",
        "    - DX-Y.NYB : 달러인덱스\n",
        "  - period : 1mo(1달), 1y(1년)"
      ]
    },
    {
      "cell_type": "code",
      "metadata": {
        "id": "oVSb60LJw5c9"
      },
      "source": [
        "def get_ticker_hist(symbol, period):\n",
        "    df = yf.Ticker(symbol)\n",
        "    hist = df.history(period=period, auto_adjust=False)\n",
        "    return hist\n",
        "\n",
        "def get_ticker_values(hist):\n",
        "    low = hist['Low'].min()\n",
        "    high = hist['High'].max()\n",
        "    mid = (high + low) / 2.0\n",
        "    close = hist['Close'].iloc[-1]\n",
        "    values_dic = {\n",
        "      \"low\": low,      \n",
        "      \"high\": high,      \n",
        "      \"mid\" : mid,\n",
        "      \"close\" : close,\n",
        "      \"is_buy\" : close < mid\n",
        "    }\n",
        "    return values_dic"
      ],
      "execution_count": 3,
      "outputs": []
    },
    {
      "cell_type": "markdown",
      "metadata": {
        "id": "Ig5ObcvrjrYr"
      },
      "source": [
        "## 1. 원달러 환율"
      ]
    },
    {
      "cell_type": "code",
      "metadata": {
        "id": "8A1NAEqdw9fQ"
      },
      "source": [
        "# 원달러 환율 1년 데이터프레임 얻기\n",
        "#hist = get_ticker_hist(\"KRW=X\", \"1mo\")\n",
        "hist = get_ticker_hist(\"KRW=X\", \"1y\")"
      ],
      "execution_count": 4,
      "outputs": []
    },
    {
      "cell_type": "code",
      "metadata": {
        "colab": {
          "base_uri": "https://localhost:8080/",
          "height": 445
        },
        "id": "almXo7aTxBVC",
        "outputId": "593a317e-f4b4-4a28-9237-8d0e6162a2e5"
      },
      "source": [
        "hist"
      ],
      "execution_count": 5,
      "outputs": [
        {
          "output_type": "execute_result",
          "data": {
            "text/html": [
              "<div>\n",
              "<style scoped>\n",
              "    .dataframe tbody tr th:only-of-type {\n",
              "        vertical-align: middle;\n",
              "    }\n",
              "\n",
              "    .dataframe tbody tr th {\n",
              "        vertical-align: top;\n",
              "    }\n",
              "\n",
              "    .dataframe thead th {\n",
              "        text-align: right;\n",
              "    }\n",
              "</style>\n",
              "<table border=\"1\" class=\"dataframe\">\n",
              "  <thead>\n",
              "    <tr style=\"text-align: right;\">\n",
              "      <th></th>\n",
              "      <th>Open</th>\n",
              "      <th>High</th>\n",
              "      <th>Low</th>\n",
              "      <th>Close</th>\n",
              "      <th>Adj Close</th>\n",
              "      <th>Volume</th>\n",
              "      <th>Dividends</th>\n",
              "      <th>Stock Splits</th>\n",
              "    </tr>\n",
              "    <tr>\n",
              "      <th>Date</th>\n",
              "      <th></th>\n",
              "      <th></th>\n",
              "      <th></th>\n",
              "      <th></th>\n",
              "      <th></th>\n",
              "      <th></th>\n",
              "      <th></th>\n",
              "      <th></th>\n",
              "    </tr>\n",
              "  </thead>\n",
              "  <tbody>\n",
              "    <tr>\n",
              "      <th>2020-09-14</th>\n",
              "      <td>1185.780029</td>\n",
              "      <td>1186.880005</td>\n",
              "      <td>1179.630005</td>\n",
              "      <td>1186.969971</td>\n",
              "      <td>1186.969971</td>\n",
              "      <td>0</td>\n",
              "      <td>0</td>\n",
              "      <td>0</td>\n",
              "    </tr>\n",
              "    <tr>\n",
              "      <th>2020-09-15</th>\n",
              "      <td>1181.199951</td>\n",
              "      <td>1183.119995</td>\n",
              "      <td>1176.319946</td>\n",
              "      <td>1180.839966</td>\n",
              "      <td>1180.839966</td>\n",
              "      <td>0</td>\n",
              "      <td>0</td>\n",
              "      <td>0</td>\n",
              "    </tr>\n",
              "    <tr>\n",
              "      <th>2020-09-16</th>\n",
              "      <td>1179.849976</td>\n",
              "      <td>1181.170044</td>\n",
              "      <td>1169.760010</td>\n",
              "      <td>1179.250000</td>\n",
              "      <td>1179.250000</td>\n",
              "      <td>0</td>\n",
              "      <td>0</td>\n",
              "      <td>0</td>\n",
              "    </tr>\n",
              "    <tr>\n",
              "      <th>2020-09-17</th>\n",
              "      <td>1173.800049</td>\n",
              "      <td>1177.229980</td>\n",
              "      <td>1169.780029</td>\n",
              "      <td>1172.069946</td>\n",
              "      <td>1172.069946</td>\n",
              "      <td>0</td>\n",
              "      <td>0</td>\n",
              "      <td>0</td>\n",
              "    </tr>\n",
              "    <tr>\n",
              "      <th>2020-09-18</th>\n",
              "      <td>1168.760010</td>\n",
              "      <td>1168.760010</td>\n",
              "      <td>1158.640015</td>\n",
              "      <td>1168.650024</td>\n",
              "      <td>1168.650024</td>\n",
              "      <td>0</td>\n",
              "      <td>0</td>\n",
              "      <td>0</td>\n",
              "    </tr>\n",
              "    <tr>\n",
              "      <th>...</th>\n",
              "      <td>...</td>\n",
              "      <td>...</td>\n",
              "      <td>...</td>\n",
              "      <td>...</td>\n",
              "      <td>...</td>\n",
              "      <td>...</td>\n",
              "      <td>...</td>\n",
              "      <td>...</td>\n",
              "    </tr>\n",
              "    <tr>\n",
              "      <th>2021-09-07</th>\n",
              "      <td>1157.010010</td>\n",
              "      <td>1165.280029</td>\n",
              "      <td>1155.160034</td>\n",
              "      <td>1155.540039</td>\n",
              "      <td>1155.540039</td>\n",
              "      <td>0</td>\n",
              "      <td>0</td>\n",
              "      <td>0</td>\n",
              "    </tr>\n",
              "    <tr>\n",
              "      <th>2021-09-08</th>\n",
              "      <td>1161.130005</td>\n",
              "      <td>1167.739990</td>\n",
              "      <td>1161.130005</td>\n",
              "      <td>1161.000000</td>\n",
              "      <td>1161.000000</td>\n",
              "      <td>0</td>\n",
              "      <td>0</td>\n",
              "      <td>0</td>\n",
              "    </tr>\n",
              "    <tr>\n",
              "      <th>2021-09-09</th>\n",
              "      <td>1166.489990</td>\n",
              "      <td>1171.449951</td>\n",
              "      <td>1166.489990</td>\n",
              "      <td>1166.489990</td>\n",
              "      <td>1166.489990</td>\n",
              "      <td>0</td>\n",
              "      <td>0</td>\n",
              "      <td>0</td>\n",
              "    </tr>\n",
              "    <tr>\n",
              "      <th>2021-09-10</th>\n",
              "      <td>1169.060059</td>\n",
              "      <td>1173.500000</td>\n",
              "      <td>1164.300049</td>\n",
              "      <td>1169.130005</td>\n",
              "      <td>1169.130005</td>\n",
              "      <td>0</td>\n",
              "      <td>0</td>\n",
              "      <td>0</td>\n",
              "    </tr>\n",
              "    <tr>\n",
              "      <th>2021-09-13</th>\n",
              "      <td>1168.900024</td>\n",
              "      <td>1177.030029</td>\n",
              "      <td>1168.900024</td>\n",
              "      <td>1173.209961</td>\n",
              "      <td>1173.209961</td>\n",
              "      <td>0</td>\n",
              "      <td>0</td>\n",
              "      <td>0</td>\n",
              "    </tr>\n",
              "  </tbody>\n",
              "</table>\n",
              "<p>261 rows × 8 columns</p>\n",
              "</div>"
            ],
            "text/plain": [
              "                   Open         High  ...  Dividends  Stock Splits\n",
              "Date                                  ...                         \n",
              "2020-09-14  1185.780029  1186.880005  ...          0             0\n",
              "2020-09-15  1181.199951  1183.119995  ...          0             0\n",
              "2020-09-16  1179.849976  1181.170044  ...          0             0\n",
              "2020-09-17  1173.800049  1177.229980  ...          0             0\n",
              "2020-09-18  1168.760010  1168.760010  ...          0             0\n",
              "...                 ...          ...  ...        ...           ...\n",
              "2021-09-07  1157.010010  1165.280029  ...          0             0\n",
              "2021-09-08  1161.130005  1167.739990  ...          0             0\n",
              "2021-09-09  1166.489990  1171.449951  ...          0             0\n",
              "2021-09-10  1169.060059  1173.500000  ...          0             0\n",
              "2021-09-13  1168.900024  1177.030029  ...          0             0\n",
              "\n",
              "[261 rows x 8 columns]"
            ]
          },
          "metadata": {},
          "execution_count": 5
        }
      ]
    },
    {
      "cell_type": "markdown",
      "metadata": {
        "id": "axD5ObzDiLlN"
      },
      "source": [
        "* low : 기간(1년, 1달) 최저가\n",
        "* high : 기간(1년, 1달) 최고가\n",
        "* mid : low와 high의 중간가\n",
        "* close : 현재가\n",
        "* is_buy : 현재가가 기간(1년, 1달) 중간가보다 작으면 True, 아니면 False"
      ]
    },
    {
      "cell_type": "code",
      "metadata": {
        "colab": {
          "base_uri": "https://localhost:8080/"
        },
        "id": "iAP3niSvxByQ",
        "outputId": "35dc8a81-8b13-4b8b-ad72-4d26f516248f"
      },
      "source": [
        "usdkrw = get_ticker_values(hist)\n",
        "usdkrw"
      ],
      "execution_count": 6,
      "outputs": [
        {
          "output_type": "execute_result",
          "data": {
            "text/plain": [
              "{'close': 1173.2099609375,\n",
              " 'high': 1186.8800048828125,\n",
              " 'is_buy': False,\n",
              " 'low': 1079.219970703125,\n",
              " 'mid': 1133.0499877929688}"
            ]
          },
          "metadata": {},
          "execution_count": 6
        }
      ]
    },
    {
      "cell_type": "markdown",
      "metadata": {
        "id": "b8o8fjS3juME"
      },
      "source": [
        "## 2. 달러 인덱스 (달러 지수)"
      ]
    },
    {
      "cell_type": "code",
      "metadata": {
        "colab": {
          "base_uri": "https://localhost:8080/",
          "height": 445
        },
        "id": "uUr9XhLYg2c_",
        "outputId": "af9c7e6c-54e7-4fcc-8cdb-16873e867842"
      },
      "source": [
        "# 달러인덱스 1년 데이터프레임 얻기\n",
        "#hist = get_ticker_hist(\"DX-Y.NYB\", \"1mo\")\n",
        "hist = get_ticker_hist(\"DX-Y.NYB\", \"1y\")\n",
        "hist"
      ],
      "execution_count": 8,
      "outputs": [
        {
          "output_type": "execute_result",
          "data": {
            "text/html": [
              "<div>\n",
              "<style scoped>\n",
              "    .dataframe tbody tr th:only-of-type {\n",
              "        vertical-align: middle;\n",
              "    }\n",
              "\n",
              "    .dataframe tbody tr th {\n",
              "        vertical-align: top;\n",
              "    }\n",
              "\n",
              "    .dataframe thead th {\n",
              "        text-align: right;\n",
              "    }\n",
              "</style>\n",
              "<table border=\"1\" class=\"dataframe\">\n",
              "  <thead>\n",
              "    <tr style=\"text-align: right;\">\n",
              "      <th></th>\n",
              "      <th>Open</th>\n",
              "      <th>High</th>\n",
              "      <th>Low</th>\n",
              "      <th>Close</th>\n",
              "      <th>Adj Close</th>\n",
              "      <th>Volume</th>\n",
              "      <th>Dividends</th>\n",
              "      <th>Stock Splits</th>\n",
              "    </tr>\n",
              "    <tr>\n",
              "      <th>Date</th>\n",
              "      <th></th>\n",
              "      <th></th>\n",
              "      <th></th>\n",
              "      <th></th>\n",
              "      <th></th>\n",
              "      <th></th>\n",
              "      <th></th>\n",
              "      <th></th>\n",
              "    </tr>\n",
              "  </thead>\n",
              "  <tbody>\n",
              "    <tr>\n",
              "      <th>2020-09-14</th>\n",
              "      <td>93.290001</td>\n",
              "      <td>93.330002</td>\n",
              "      <td>92.870003</td>\n",
              "      <td>93.070000</td>\n",
              "      <td>93.070000</td>\n",
              "      <td>0</td>\n",
              "      <td>0</td>\n",
              "      <td>0</td>\n",
              "    </tr>\n",
              "    <tr>\n",
              "      <th>2020-09-15</th>\n",
              "      <td>93.059998</td>\n",
              "      <td>93.139999</td>\n",
              "      <td>92.790001</td>\n",
              "      <td>93.050003</td>\n",
              "      <td>93.050003</td>\n",
              "      <td>0</td>\n",
              "      <td>0</td>\n",
              "      <td>0</td>\n",
              "    </tr>\n",
              "    <tr>\n",
              "      <th>2020-09-16</th>\n",
              "      <td>93.080002</td>\n",
              "      <td>93.279999</td>\n",
              "      <td>92.779999</td>\n",
              "      <td>93.209999</td>\n",
              "      <td>93.209999</td>\n",
              "      <td>0</td>\n",
              "      <td>0</td>\n",
              "      <td>0</td>\n",
              "    </tr>\n",
              "    <tr>\n",
              "      <th>2020-09-17</th>\n",
              "      <td>93.150002</td>\n",
              "      <td>93.589996</td>\n",
              "      <td>92.870003</td>\n",
              "      <td>92.970001</td>\n",
              "      <td>92.970001</td>\n",
              "      <td>0</td>\n",
              "      <td>0</td>\n",
              "      <td>0</td>\n",
              "    </tr>\n",
              "    <tr>\n",
              "      <th>2020-09-18</th>\n",
              "      <td>92.860001</td>\n",
              "      <td>93.010002</td>\n",
              "      <td>92.769997</td>\n",
              "      <td>92.930000</td>\n",
              "      <td>92.930000</td>\n",
              "      <td>0</td>\n",
              "      <td>0</td>\n",
              "      <td>0</td>\n",
              "    </tr>\n",
              "    <tr>\n",
              "      <th>...</th>\n",
              "      <td>...</td>\n",
              "      <td>...</td>\n",
              "      <td>...</td>\n",
              "      <td>...</td>\n",
              "      <td>...</td>\n",
              "      <td>...</td>\n",
              "      <td>...</td>\n",
              "      <td>...</td>\n",
              "    </tr>\n",
              "    <tr>\n",
              "      <th>2021-09-07</th>\n",
              "      <td>92.199997</td>\n",
              "      <td>92.570000</td>\n",
              "      <td>92.099998</td>\n",
              "      <td>92.519997</td>\n",
              "      <td>92.519997</td>\n",
              "      <td>0</td>\n",
              "      <td>0</td>\n",
              "      <td>0</td>\n",
              "    </tr>\n",
              "    <tr>\n",
              "      <th>2021-09-08</th>\n",
              "      <td>92.540001</td>\n",
              "      <td>92.860001</td>\n",
              "      <td>92.470001</td>\n",
              "      <td>92.650002</td>\n",
              "      <td>92.650002</td>\n",
              "      <td>0</td>\n",
              "      <td>0</td>\n",
              "      <td>0</td>\n",
              "    </tr>\n",
              "    <tr>\n",
              "      <th>2021-09-09</th>\n",
              "      <td>92.709999</td>\n",
              "      <td>92.760002</td>\n",
              "      <td>92.379997</td>\n",
              "      <td>92.480003</td>\n",
              "      <td>92.480003</td>\n",
              "      <td>0</td>\n",
              "      <td>0</td>\n",
              "      <td>0</td>\n",
              "    </tr>\n",
              "    <tr>\n",
              "      <th>2021-09-10</th>\n",
              "      <td>92.529999</td>\n",
              "      <td>92.650002</td>\n",
              "      <td>92.330002</td>\n",
              "      <td>92.580002</td>\n",
              "      <td>92.580002</td>\n",
              "      <td>0</td>\n",
              "      <td>0</td>\n",
              "      <td>0</td>\n",
              "    </tr>\n",
              "    <tr>\n",
              "      <th>2021-09-13</th>\n",
              "      <td>92.611000</td>\n",
              "      <td>92.885002</td>\n",
              "      <td>92.611000</td>\n",
              "      <td>92.644997</td>\n",
              "      <td>92.644997</td>\n",
              "      <td>0</td>\n",
              "      <td>0</td>\n",
              "      <td>0</td>\n",
              "    </tr>\n",
              "  </tbody>\n",
              "</table>\n",
              "<p>250 rows × 8 columns</p>\n",
              "</div>"
            ],
            "text/plain": [
              "                 Open       High        Low  ...  Volume  Dividends  Stock Splits\n",
              "Date                                         ...                                 \n",
              "2020-09-14  93.290001  93.330002  92.870003  ...       0          0             0\n",
              "2020-09-15  93.059998  93.139999  92.790001  ...       0          0             0\n",
              "2020-09-16  93.080002  93.279999  92.779999  ...       0          0             0\n",
              "2020-09-17  93.150002  93.589996  92.870003  ...       0          0             0\n",
              "2020-09-18  92.860001  93.010002  92.769997  ...       0          0             0\n",
              "...               ...        ...        ...  ...     ...        ...           ...\n",
              "2021-09-07  92.199997  92.570000  92.099998  ...       0          0             0\n",
              "2021-09-08  92.540001  92.860001  92.470001  ...       0          0             0\n",
              "2021-09-09  92.709999  92.760002  92.379997  ...       0          0             0\n",
              "2021-09-10  92.529999  92.650002  92.330002  ...       0          0             0\n",
              "2021-09-13  92.611000  92.885002  92.611000  ...       0          0             0\n",
              "\n",
              "[250 rows x 8 columns]"
            ]
          },
          "metadata": {},
          "execution_count": 8
        }
      ]
    },
    {
      "cell_type": "markdown",
      "metadata": {
        "id": "-QW4ezFDiD5b"
      },
      "source": [
        "* low : 기간(1년, 1달) 최저가\n",
        "* high : 기간(1년, 1달) 최고가\n",
        "* mid : low와 high의 중간가\n",
        "* close : 현재가\n",
        "* is_buy : 현재가가 기간(1년, 1달) 중간가보다 작으면 True, 아니면 False"
      ]
    },
    {
      "cell_type": "code",
      "metadata": {
        "colab": {
          "base_uri": "https://localhost:8080/"
        },
        "id": "YTNVXfKeg7_Q",
        "outputId": "4f9989e6-a307-4c8f-fd8a-d6a2074f44a0"
      },
      "source": [
        "dxy = get_ticker_values(hist)\n",
        "dxy"
      ],
      "execution_count": 9,
      "outputs": [
        {
          "output_type": "execute_result",
          "data": {
            "text/plain": [
              "{'close': 92.6449966430664,\n",
              " 'high': 94.73999786376953,\n",
              " 'is_buy': False,\n",
              " 'low': 89.20999908447266,\n",
              " 'mid': 91.9749984741211}"
            ]
          },
          "metadata": {},
          "execution_count": 9
        }
      ]
    },
    {
      "cell_type": "markdown",
      "metadata": {
        "id": "vR73njmai782"
      },
      "source": [
        "## 3. 달러 갭 비율\n",
        "* 산출 공식 : 달러 지수 / (원/달러 환율) * 100 = 달러 갭 비율\n",
        "* mid : 달러 지수 중간값 / (원/달러 환율 중간값) * 100\n",
        "* close : 달러 지수 현재가 / (원/달러 환율 현재가) * 100\n",
        "* is_buy : 현재가가 기간(1년, 1달) 중간값보다 크면 True, 아니면 False"
      ]
    },
    {
      "cell_type": "code",
      "metadata": {
        "id": "w7946QJbhC4_"
      },
      "source": [
        "def get_gap(usdkrw, dxy):\n",
        "    gap_dic = {}\n",
        "    mid = dxy.get(\"mid\", 0) / usdkrw.get(\"mid\", 0) * 100.0\n",
        "    close = dxy.get(\"close\", 0) / usdkrw.get(\"close\", 0) * 100.0\n",
        "    if dxy.get(\"mid\", 0) and usdkrw.get(\"mid\", 0):\n",
        "        gap_dic[\"mid\"] = mid\n",
        "    if dxy.get(\"close\", 0) and usdkrw.get(\"close\", 0):\n",
        "        gap_dic[\"close\"] = close\n",
        "    gap_dic[\"is_buy\"] = close > mid\n",
        "    return gap_dic"
      ],
      "execution_count": 12,
      "outputs": []
    },
    {
      "cell_type": "code",
      "metadata": {
        "colab": {
          "base_uri": "https://localhost:8080/"
        },
        "id": "H4_Alz0BU7G7",
        "outputId": "650084b0-ff14-48f4-8b87-423ae6a42769"
      },
      "source": [
        "gap_rate = get_gap(usdkrw, dxy)\n",
        "gap_rate"
      ],
      "execution_count": 13,
      "outputs": [
        {
          "output_type": "execute_result",
          "data": {
            "text/plain": [
              "{'close': 7.896710710590519, 'is_buy': False, 'mid': 8.11747049689098}"
            ]
          },
          "metadata": {},
          "execution_count": 13
        }
      ]
    },
    {
      "cell_type": "markdown",
      "metadata": {
        "id": "eGMi9zfJkRv0"
      },
      "source": [
        "## 4. 적정 환율\n",
        "* 산출 공식 : 현재의 달러 지수 / 52주 중간 달러 갭 비율 * 100 = 적정 환율"
      ]
    },
    {
      "cell_type": "code",
      "metadata": {
        "id": "5H8bI4_hWtVu"
      },
      "source": [
        "def get_proper_usdkrw(dxy, gap_rate):\n",
        "    value = 0\n",
        "    if dxy.get(\"close\", 0) and gap_rate.get(\"mid\", 0):\n",
        "        value = dxy.get(\"close\", 0) / gap_rate.get(\"mid\", 0) * 100.0\n",
        "    return value"
      ],
      "execution_count": 14,
      "outputs": []
    },
    {
      "cell_type": "code",
      "metadata": {
        "colab": {
          "base_uri": "https://localhost:8080/"
        },
        "id": "VdwO06S2XPyA",
        "outputId": "d7d4b0b1-aaa2-4664-c11f-d1b8521317df"
      },
      "source": [
        "get_proper_usdkrw(dxy, gap_rate)"
      ],
      "execution_count": 15,
      "outputs": [
        {
          "output_type": "execute_result",
          "data": {
            "text/plain": [
              "1141.3037679477834"
            ]
          },
          "metadata": {},
          "execution_count": 15
        }
      ]
    }
  ]
}